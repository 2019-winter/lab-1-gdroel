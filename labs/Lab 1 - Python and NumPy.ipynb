{
 "cells": [
  {
   "cell_type": "markdown",
   "metadata": {},
   "source": [
    "# Name\n",
    "**Gabe Roeloffs**"
   ]
  },
  {
   "cell_type": "markdown",
   "metadata": {},
   "source": [
    "**Instructions:** This is an individual assignment, but you may discuss your code with your neighbors."
   ]
  },
  {
   "cell_type": "markdown",
   "metadata": {},
   "source": [
    "# Python and NumPy\n",
    "\n",
    "While other IDEs exist for Python development and for data science related activities, one of the most popular environments is Jupyter Notebooks.\n",
    "\n",
    "This lab is not intended to teach you everything you will use in this course. Instead, it is designed to give you exposure to some critical components from NumPy that we will rely upon routinely.\n",
    "\n",
    "## Exercise 0\n",
    "Please read and reference the following as your progress through this course. \n",
    "\n",
    "* [What is the Jupyter Notebook?](https://nbviewer.jupyter.org/github/jupyter/notebook/blob/master/docs/source/examples/Notebook/What%20is%20the%20Jupyter%20Notebook.ipynb#)\n",
    "* [Notebook Tutorial](https://www.datacamp.com/community/tutorials/tutorial-jupyter-notebook)\n",
    "* [Notebook Basics](https://nbviewer.jupyter.org/github/jupyter/notebook/blob/master/docs/source/examples/Notebook/Notebook%20Basics.ipynb)\n",
    "\n",
    "**In the space provided below, what are three things that still remain unclear or need further explanation?**"
   ]
  },
  {
   "cell_type": "markdown",
   "metadata": {},
   "source": [
    "**YOUR ANSWER HERE**"
   ]
  },
  {
   "cell_type": "markdown",
   "metadata": {},
   "source": [
    "## Exercises 1-7\n",
    "For the following exercises please read the Python appendix in the Marsland textbook and answer problems A.1-A.7 in the space provided below."
   ]
  },
  {
   "cell_type": "markdown",
   "metadata": {},
   "source": [
    "## Exercise 1"
   ]
  },
  {
   "cell_type": "code",
   "execution_count": 4,
   "metadata": {},
   "outputs": [
    {
     "name": "stdout",
     "output_type": "stream",
     "text": [
      "[[2 2 2 2]\n",
      " [2 2 2 2]\n",
      " [2 2 2 2]\n",
      " [2 2 2 2]\n",
      " [2 2 2 2]\n",
      " [2 2 2 2]]\n"
     ]
    }
   ],
   "source": [
    "# Make an array a of size 6 × 4 where every element is a 2.\n",
    "import numpy as np\n",
    "\n",
    "a = np.full((6,4), 2)\n",
    "print(a)"
   ]
  },
  {
   "cell_type": "markdown",
   "metadata": {},
   "source": [
    "## Exercise 2"
   ]
  },
  {
   "cell_type": "code",
   "execution_count": 5,
   "metadata": {},
   "outputs": [
    {
     "name": "stdout",
     "output_type": "stream",
     "text": [
      "[[3 1 1 1]\n",
      " [1 3 1 1]\n",
      " [1 1 3 1]\n",
      " [1 1 1 3]\n",
      " [1 1 1 1]\n",
      " [1 1 1 1]]\n"
     ]
    }
   ],
   "source": [
    "# Make an array b of size 6 × 4 that has 3 on the leading diagonal and 1 everywhere else.\n",
    "b = np.full((6,4), 1)\n",
    "np.fill_diagonal(b, 3)\n",
    "print(b)\n"
   ]
  },
  {
   "cell_type": "markdown",
   "metadata": {},
   "source": [
    "## Exercise 3"
   ]
  },
  {
   "cell_type": "code",
   "execution_count": 6,
   "metadata": {},
   "outputs": [
    {
     "name": "stdout",
     "output_type": "stream",
     "text": [
      "[[6 2 2 2]\n",
      " [2 6 2 2]\n",
      " [2 2 6 2]\n",
      " [2 2 2 6]\n",
      " [2 2 2 2]\n",
      " [2 2 2 2]]\n"
     ]
    }
   ],
   "source": [
    "# Can you multiply these two matrices together? Why does a * b work, but not dot(a,b)?\n",
    "print(a * b)\n",
    "\n",
    "# dot(a, b) does not work because the number of rows in a is not equivalent to the number\n",
    "# of columns in b"
   ]
  },
  {
   "cell_type": "markdown",
   "metadata": {},
   "source": [
    "## Exercise 4"
   ]
  },
  {
   "cell_type": "code",
   "execution_count": 7,
   "metadata": {},
   "outputs": [
    {
     "name": "stdout",
     "output_type": "stream",
     "text": [
      "[[16 16 16 16]\n",
      " [16 16 16 16]\n",
      " [16 16 16 16]\n",
      " [16 16 16 16]]\n",
      "[[12 12 12 12  8  8]\n",
      " [12 12 12 12  8  8]\n",
      " [12 12 12 12  8  8]\n",
      " [12 12 12 12  8  8]\n",
      " [12 12 12 12  8  8]\n",
      " [12 12 12 12  8  8]]\n"
     ]
    }
   ],
   "source": [
    "# Compute dot(a.transpose(),b) and dot(a,b.transpose()). Why are the results different shapes?\n",
    "\n",
    "print(np.dot(a.transpose(), b))\n",
    "print(np.dot(a, b.transpose()))\n",
    "\n",
    "# Because in the first case, each row of a is multiplied against each column of b.\n",
    "# Since there are four rows in a because it is transposed, it is multiplied against four columns,\n",
    "# yielding a 4x4 matrix. The same is true for the second case, except with six rows multiplied against six columns."
   ]
  },
  {
   "cell_type": "markdown",
   "metadata": {},
   "source": [
    "## Exercise 5"
   ]
  },
  {
   "cell_type": "code",
   "execution_count": 8,
   "metadata": {},
   "outputs": [
    {
     "name": "stdout",
     "output_type": "stream",
     "text": [
      "hello there\n"
     ]
    }
   ],
   "source": [
    "# Write a function that prints some output on the screen and make sure you can run it in the programming environment that you are using.\n",
    "def hello_there():\n",
    "    print(\"hello there\")\n",
    "hello_there()"
   ]
  },
  {
   "cell_type": "markdown",
   "metadata": {},
   "source": [
    "## Exercise 6"
   ]
  },
  {
   "cell_type": "code",
   "execution_count": 9,
   "metadata": {},
   "outputs": [
    {
     "name": "stdout",
     "output_type": "stream",
     "text": [
      "sum\n",
      "13.917766824360287\n",
      "mean value\n",
      "0.5567106729744115\n"
     ]
    }
   ],
   "source": [
    "# Now write one that makes some random arrays and prints out their sums, the mean value, etc.\n",
    "\n",
    "def test_func():\n",
    "    rand1 = np.random.rand(5,5)\n",
    "    rand2 = np.random.rand(5,5)\n",
    "\n",
    "    print(\"sum\")\n",
    "    print(np.sum(rand1))\n",
    "    print(\"mean value\")\n",
    "    print(np.mean(rand1))\n",
    "    \n",
    "test_func()\n",
    "\n"
   ]
  },
  {
   "cell_type": "markdown",
   "metadata": {},
   "source": [
    "## Exercise 7"
   ]
  },
  {
   "cell_type": "code",
   "execution_count": 14,
   "metadata": {},
   "outputs": [
    {
     "name": "stdout",
     "output_type": "stream",
     "text": [
      "16\n",
      "16\n"
     ]
    }
   ],
   "source": [
    "# Write a function that consists of a set of loops that run through an array and count the number of ones in it. Do the same thing using the where() function (use info(where) to find out how to use it).\n",
    "def num_ones_naive(input_array):\n",
    "    count = 0\n",
    "    for i in range(0, input_array.shape[0]):\n",
    "        for j in range(0, input_array.shape[1]):\n",
    "            if input_array[i][j] == 1:\n",
    "                count += 1\n",
    "                \n",
    "    return count\n",
    "\n",
    "def num_ones_fast(input_array):\n",
    "    return len(np.where(input_array==1)[0])\n",
    "\n",
    "a = np.full((4,4), 1)\n",
    "print(num_ones_naive(a))\n",
    "print(num_ones_fast(a))\n"
   ]
  },
  {
   "cell_type": "markdown",
   "metadata": {},
   "source": [
    "## Excercises 8-???\n",
    "While the Marsland book avoids using another popular package called Pandas, we will use it at times throughout this course. Please read and study [10 minutes to Pandas](https://pandas.pydata.org/pandas-docs/stable/getting_started/10min.html) before proceeding to any of the exercises below."
   ]
  },
  {
   "cell_type": "markdown",
   "metadata": {},
   "source": [
    "## Exercise 8\n",
    "Repeat exercise A.1 from Marsland, but create a Pandas DataFrame instead of a NumPy array."
   ]
  },
  {
   "cell_type": "code",
   "execution_count": 23,
   "metadata": {},
   "outputs": [
    {
     "name": "stdout",
     "output_type": "stream",
     "text": [
      "   0  1  2  3\n",
      "0  2  2  2  2\n",
      "1  2  2  2  2\n",
      "2  2  2  2  2\n",
      "3  2  2  2  2\n",
      "4  2  2  2  2\n",
      "5  2  2  2  2\n"
     ]
    }
   ],
   "source": [
    "import pandas as pd\n",
    "\n",
    "# Make an array a of size 6 × 4 where every element is a 2.\n",
    "dfa = pd.DataFrame(np.full((6,4), 2))\n",
    "print(dfa)"
   ]
  },
  {
   "cell_type": "markdown",
   "metadata": {},
   "source": [
    "## Exercise 9\n",
    "Repeat exercise A.2 using a DataFrame instead."
   ]
  },
  {
   "cell_type": "code",
   "execution_count": 28,
   "metadata": {},
   "outputs": [
    {
     "name": "stdout",
     "output_type": "stream",
     "text": [
      "   0  1  2  3\n",
      "0  3  1  1  1\n",
      "1  1  3  1  1\n",
      "2  1  1  3  1\n",
      "3  1  1  1  3\n",
      "4  1  1  1  1\n",
      "5  1  1  1  1\n"
     ]
    }
   ],
   "source": [
    "# YOUR SOLUTION HERE\n",
    "b = np.full((6,4), 1)\n",
    "np.fill_diagonal(b, 3)\n",
    "dfb = pd.DataFrame(b)\n",
    "print(dfb)"
   ]
  },
  {
   "cell_type": "markdown",
   "metadata": {},
   "source": [
    "## Exercise 10\n",
    "Repeat exercise A.3 using DataFrames instead."
   ]
  },
  {
   "cell_type": "code",
   "execution_count": 29,
   "metadata": {},
   "outputs": [
    {
     "name": "stdout",
     "output_type": "stream",
     "text": [
      "   0  1  2  3\n",
      "0  6  2  2  2\n",
      "1  2  6  2  2\n",
      "2  2  2  6  2\n",
      "3  2  2  2  6\n",
      "4  2  2  2  2\n",
      "5  2  2  2  2\n"
     ]
    }
   ],
   "source": [
    "# YOUR SOLUTION HERE\n",
    "c = pd.DataFrame(dfa.values*dfb.values, columns=dfa.columns, index=dfa.index)\n",
    "print(c)"
   ]
  },
  {
   "cell_type": "markdown",
   "metadata": {},
   "source": [
    "## Exercise 11\n",
    "Repeat exercise A.7 using a dataframe."
   ]
  },
  {
   "cell_type": "code",
   "execution_count": 45,
   "metadata": {},
   "outputs": [
    {
     "name": "stdout",
     "output_type": "stream",
     "text": [
      "16\n",
      "16\n"
     ]
    }
   ],
   "source": [
    "# Write a function that consists of a set of loops that run through an array and count the number of ones in it. Do the same thing using the where() function (use info(where) to find out how to use it).\n",
    "def num_ones_naive(input_df):\n",
    "    count = 0\n",
    "    for i in range(0, input_df.shape[0]):\n",
    "        for j in range(0, input_df.shape[1]):\n",
    "            if input_df.iloc[i][j] == 1:\n",
    "                count += 1\n",
    "                \n",
    "    return count\n",
    "\n",
    "def num_ones_fast(input_df):\n",
    "    input_df.where(input_df==1, inplace=True)\n",
    "    return len(input_df[0]) * len(input_df[1])\n",
    "\n",
    "a = pd.DataFrame(np.full((4,4), 1))\n",
    "print(num_ones_naive(a))\n",
    "print(num_ones_fast(a))\n"
   ]
  },
  {
   "cell_type": "markdown",
   "metadata": {},
   "source": [
    "## Exercises 12-14\n",
    "Now let's look at a real dataset, and talk about ``.loc``. For this exercise, we will use the popular Titanic dataset from Kaggle. Here is some sample code to read it into a dataframe."
   ]
  },
  {
   "cell_type": "code",
   "execution_count": 48,
   "metadata": {},
   "outputs": [],
   "source": [
    "titanic_df = pd.read_csv(\n",
    "    \"https://raw.githubusercontent.com/dlsun/data-science-book/master/data/titanic.csv\"\n",
    ")"
   ]
  },
  {
   "cell_type": "markdown",
   "metadata": {},
   "source": [
    "Notice how we have nice headers and mixed datatypes? That is one of the reasons we might use Pandas. Please refresh your memory by looking at the 10 minutes to Pandas again, but then answer the following."
   ]
  },
  {
   "cell_type": "markdown",
   "metadata": {},
   "source": [
    "## Exercise 12\n",
    "How do you select the ``name`` column without using .iloc?"
   ]
  },
  {
   "cell_type": "code",
   "execution_count": 56,
   "metadata": {},
   "outputs": [
    {
     "data": {
      "text/plain": [
       "sex\n",
       "female    1\n",
       "male      1\n",
       "female    1\n",
       "male      1\n",
       "female    1\n",
       "         ..\n",
       "female    3\n",
       "female    3\n",
       "male      3\n",
       "male      3\n",
       "male      3\n",
       "Name: pclass, Length: 1309, dtype: int64"
      ]
     },
     "execution_count": 56,
     "metadata": {},
     "output_type": "execute_result"
    }
   ],
   "source": [
    "## YOUR SOLUTION HERE\n",
    "titanic_df['pclass']"
   ]
  },
  {
   "cell_type": "markdown",
   "metadata": {},
   "source": [
    "## Exercise 13\n",
    "After setting the index to ``sex``, how do you select all passengers that are ``female``? And how many female passengers are there?"
   ]
  },
  {
   "cell_type": "code",
   "execution_count": 72,
   "metadata": {},
   "outputs": [
    {
     "name": "stdout",
     "output_type": "stream",
     "text": [
      "male      843\n",
      "female    466\n",
      "Name: sex, dtype: int64\n"
     ]
    }
   ],
   "source": [
    "## YOUR SOLUTION HERE\n",
    "titanic_df = pd.read_csv(\n",
    "    \"https://raw.githubusercontent.com/dlsun/data-science-book/master/data/titanic.csv\"\n",
    ")\n",
    "titanic_df.set_index('sex',inplace=True)\n",
    "print(titanic_df.index.value_counts())\n"
   ]
  },
  {
   "cell_type": "markdown",
   "metadata": {},
   "source": [
    "## Exercise 14\n",
    "How do you reset the index?"
   ]
  },
  {
   "cell_type": "code",
   "execution_count": 73,
   "metadata": {},
   "outputs": [],
   "source": [
    "## YOUR SOLUTION HERE"
   ]
  },
  {
   "cell_type": "code",
   "execution_count": 75,
   "metadata": {},
   "outputs": [
    {
     "data": {
      "text/html": [
       "<div>\n",
       "<style scoped>\n",
       "    .dataframe tbody tr th:only-of-type {\n",
       "        vertical-align: middle;\n",
       "    }\n",
       "\n",
       "    .dataframe tbody tr th {\n",
       "        vertical-align: top;\n",
       "    }\n",
       "\n",
       "    .dataframe thead th {\n",
       "        text-align: right;\n",
       "    }\n",
       "</style>\n",
       "<table border=\"1\" class=\"dataframe\">\n",
       "  <thead>\n",
       "    <tr style=\"text-align: right;\">\n",
       "      <th></th>\n",
       "      <th>sex</th>\n",
       "      <th>pclass</th>\n",
       "      <th>survived</th>\n",
       "      <th>name</th>\n",
       "      <th>age</th>\n",
       "      <th>sibsp</th>\n",
       "      <th>parch</th>\n",
       "      <th>ticket</th>\n",
       "      <th>fare</th>\n",
       "      <th>cabin</th>\n",
       "      <th>embarked</th>\n",
       "      <th>boat</th>\n",
       "      <th>body</th>\n",
       "      <th>home.dest</th>\n",
       "    </tr>\n",
       "  </thead>\n",
       "  <tbody>\n",
       "    <tr>\n",
       "      <td>0</td>\n",
       "      <td>female</td>\n",
       "      <td>1</td>\n",
       "      <td>1</td>\n",
       "      <td>Allen, Miss. Elisabeth Walton</td>\n",
       "      <td>29.0000</td>\n",
       "      <td>0</td>\n",
       "      <td>0</td>\n",
       "      <td>24160</td>\n",
       "      <td>211.3375</td>\n",
       "      <td>B5</td>\n",
       "      <td>S</td>\n",
       "      <td>2</td>\n",
       "      <td>NaN</td>\n",
       "      <td>St Louis, MO</td>\n",
       "    </tr>\n",
       "    <tr>\n",
       "      <td>1</td>\n",
       "      <td>male</td>\n",
       "      <td>1</td>\n",
       "      <td>1</td>\n",
       "      <td>Allison, Master. Hudson Trevor</td>\n",
       "      <td>0.9167</td>\n",
       "      <td>1</td>\n",
       "      <td>2</td>\n",
       "      <td>113781</td>\n",
       "      <td>151.5500</td>\n",
       "      <td>C22 C26</td>\n",
       "      <td>S</td>\n",
       "      <td>11</td>\n",
       "      <td>NaN</td>\n",
       "      <td>Montreal, PQ / Chesterville, ON</td>\n",
       "    </tr>\n",
       "    <tr>\n",
       "      <td>2</td>\n",
       "      <td>female</td>\n",
       "      <td>1</td>\n",
       "      <td>0</td>\n",
       "      <td>Allison, Miss. Helen Loraine</td>\n",
       "      <td>2.0000</td>\n",
       "      <td>1</td>\n",
       "      <td>2</td>\n",
       "      <td>113781</td>\n",
       "      <td>151.5500</td>\n",
       "      <td>C22 C26</td>\n",
       "      <td>S</td>\n",
       "      <td>NaN</td>\n",
       "      <td>NaN</td>\n",
       "      <td>Montreal, PQ / Chesterville, ON</td>\n",
       "    </tr>\n",
       "    <tr>\n",
       "      <td>3</td>\n",
       "      <td>male</td>\n",
       "      <td>1</td>\n",
       "      <td>0</td>\n",
       "      <td>Allison, Mr. Hudson Joshua Creighton</td>\n",
       "      <td>30.0000</td>\n",
       "      <td>1</td>\n",
       "      <td>2</td>\n",
       "      <td>113781</td>\n",
       "      <td>151.5500</td>\n",
       "      <td>C22 C26</td>\n",
       "      <td>S</td>\n",
       "      <td>NaN</td>\n",
       "      <td>135.0</td>\n",
       "      <td>Montreal, PQ / Chesterville, ON</td>\n",
       "    </tr>\n",
       "    <tr>\n",
       "      <td>4</td>\n",
       "      <td>female</td>\n",
       "      <td>1</td>\n",
       "      <td>0</td>\n",
       "      <td>Allison, Mrs. Hudson J C (Bessie Waldo Daniels)</td>\n",
       "      <td>25.0000</td>\n",
       "      <td>1</td>\n",
       "      <td>2</td>\n",
       "      <td>113781</td>\n",
       "      <td>151.5500</td>\n",
       "      <td>C22 C26</td>\n",
       "      <td>S</td>\n",
       "      <td>NaN</td>\n",
       "      <td>NaN</td>\n",
       "      <td>Montreal, PQ / Chesterville, ON</td>\n",
       "    </tr>\n",
       "    <tr>\n",
       "      <td>...</td>\n",
       "      <td>...</td>\n",
       "      <td>...</td>\n",
       "      <td>...</td>\n",
       "      <td>...</td>\n",
       "      <td>...</td>\n",
       "      <td>...</td>\n",
       "      <td>...</td>\n",
       "      <td>...</td>\n",
       "      <td>...</td>\n",
       "      <td>...</td>\n",
       "      <td>...</td>\n",
       "      <td>...</td>\n",
       "      <td>...</td>\n",
       "      <td>...</td>\n",
       "    </tr>\n",
       "    <tr>\n",
       "      <td>1304</td>\n",
       "      <td>female</td>\n",
       "      <td>3</td>\n",
       "      <td>0</td>\n",
       "      <td>Zabour, Miss. Hileni</td>\n",
       "      <td>14.5000</td>\n",
       "      <td>1</td>\n",
       "      <td>0</td>\n",
       "      <td>2665</td>\n",
       "      <td>14.4542</td>\n",
       "      <td>NaN</td>\n",
       "      <td>C</td>\n",
       "      <td>NaN</td>\n",
       "      <td>328.0</td>\n",
       "      <td>NaN</td>\n",
       "    </tr>\n",
       "    <tr>\n",
       "      <td>1305</td>\n",
       "      <td>female</td>\n",
       "      <td>3</td>\n",
       "      <td>0</td>\n",
       "      <td>Zabour, Miss. Thamine</td>\n",
       "      <td>NaN</td>\n",
       "      <td>1</td>\n",
       "      <td>0</td>\n",
       "      <td>2665</td>\n",
       "      <td>14.4542</td>\n",
       "      <td>NaN</td>\n",
       "      <td>C</td>\n",
       "      <td>NaN</td>\n",
       "      <td>NaN</td>\n",
       "      <td>NaN</td>\n",
       "    </tr>\n",
       "    <tr>\n",
       "      <td>1306</td>\n",
       "      <td>male</td>\n",
       "      <td>3</td>\n",
       "      <td>0</td>\n",
       "      <td>Zakarian, Mr. Mapriededer</td>\n",
       "      <td>26.5000</td>\n",
       "      <td>0</td>\n",
       "      <td>0</td>\n",
       "      <td>2656</td>\n",
       "      <td>7.2250</td>\n",
       "      <td>NaN</td>\n",
       "      <td>C</td>\n",
       "      <td>NaN</td>\n",
       "      <td>304.0</td>\n",
       "      <td>NaN</td>\n",
       "    </tr>\n",
       "    <tr>\n",
       "      <td>1307</td>\n",
       "      <td>male</td>\n",
       "      <td>3</td>\n",
       "      <td>0</td>\n",
       "      <td>Zakarian, Mr. Ortin</td>\n",
       "      <td>27.0000</td>\n",
       "      <td>0</td>\n",
       "      <td>0</td>\n",
       "      <td>2670</td>\n",
       "      <td>7.2250</td>\n",
       "      <td>NaN</td>\n",
       "      <td>C</td>\n",
       "      <td>NaN</td>\n",
       "      <td>NaN</td>\n",
       "      <td>NaN</td>\n",
       "    </tr>\n",
       "    <tr>\n",
       "      <td>1308</td>\n",
       "      <td>male</td>\n",
       "      <td>3</td>\n",
       "      <td>0</td>\n",
       "      <td>Zimmerman, Mr. Leo</td>\n",
       "      <td>29.0000</td>\n",
       "      <td>0</td>\n",
       "      <td>0</td>\n",
       "      <td>315082</td>\n",
       "      <td>7.8750</td>\n",
       "      <td>NaN</td>\n",
       "      <td>S</td>\n",
       "      <td>NaN</td>\n",
       "      <td>NaN</td>\n",
       "      <td>NaN</td>\n",
       "    </tr>\n",
       "  </tbody>\n",
       "</table>\n",
       "<p>1309 rows × 14 columns</p>\n",
       "</div>"
      ],
      "text/plain": [
       "         sex  pclass  survived  \\\n",
       "0     female       1         1   \n",
       "1       male       1         1   \n",
       "2     female       1         0   \n",
       "3       male       1         0   \n",
       "4     female       1         0   \n",
       "...      ...     ...       ...   \n",
       "1304  female       3         0   \n",
       "1305  female       3         0   \n",
       "1306    male       3         0   \n",
       "1307    male       3         0   \n",
       "1308    male       3         0   \n",
       "\n",
       "                                                 name      age  sibsp  parch  \\\n",
       "0                       Allen, Miss. Elisabeth Walton  29.0000      0      0   \n",
       "1                      Allison, Master. Hudson Trevor   0.9167      1      2   \n",
       "2                        Allison, Miss. Helen Loraine   2.0000      1      2   \n",
       "3                Allison, Mr. Hudson Joshua Creighton  30.0000      1      2   \n",
       "4     Allison, Mrs. Hudson J C (Bessie Waldo Daniels)  25.0000      1      2   \n",
       "...                                               ...      ...    ...    ...   \n",
       "1304                             Zabour, Miss. Hileni  14.5000      1      0   \n",
       "1305                            Zabour, Miss. Thamine      NaN      1      0   \n",
       "1306                        Zakarian, Mr. Mapriededer  26.5000      0      0   \n",
       "1307                              Zakarian, Mr. Ortin  27.0000      0      0   \n",
       "1308                               Zimmerman, Mr. Leo  29.0000      0      0   \n",
       "\n",
       "      ticket      fare    cabin embarked boat   body  \\\n",
       "0      24160  211.3375       B5        S    2    NaN   \n",
       "1     113781  151.5500  C22 C26        S   11    NaN   \n",
       "2     113781  151.5500  C22 C26        S  NaN    NaN   \n",
       "3     113781  151.5500  C22 C26        S  NaN  135.0   \n",
       "4     113781  151.5500  C22 C26        S  NaN    NaN   \n",
       "...      ...       ...      ...      ...  ...    ...   \n",
       "1304    2665   14.4542      NaN        C  NaN  328.0   \n",
       "1305    2665   14.4542      NaN        C  NaN    NaN   \n",
       "1306    2656    7.2250      NaN        C  NaN  304.0   \n",
       "1307    2670    7.2250      NaN        C  NaN    NaN   \n",
       "1308  315082    7.8750      NaN        S  NaN    NaN   \n",
       "\n",
       "                            home.dest  \n",
       "0                        St Louis, MO  \n",
       "1     Montreal, PQ / Chesterville, ON  \n",
       "2     Montreal, PQ / Chesterville, ON  \n",
       "3     Montreal, PQ / Chesterville, ON  \n",
       "4     Montreal, PQ / Chesterville, ON  \n",
       "...                               ...  \n",
       "1304                              NaN  \n",
       "1305                              NaN  \n",
       "1306                              NaN  \n",
       "1307                              NaN  \n",
       "1308                              NaN  \n",
       "\n",
       "[1309 rows x 14 columns]"
      ]
     },
     "execution_count": 75,
     "metadata": {},
     "output_type": "execute_result"
    }
   ],
   "source": [
    "titanic_df.reset_index()"
   ]
  },
  {
   "cell_type": "code",
   "execution_count": null,
   "metadata": {},
   "outputs": [],
   "source": []
  }
 ],
 "metadata": {
  "jupytext": {
   "formats": "ipynb,md"
  },
  "kernelspec": {
   "display_name": "Python 3",
   "language": "python",
   "name": "python3"
  },
  "language_info": {
   "codemirror_mode": {
    "name": "ipython",
    "version": 3
   },
   "file_extension": ".py",
   "mimetype": "text/x-python",
   "name": "python",
   "nbconvert_exporter": "python",
   "pygments_lexer": "ipython3",
   "version": "3.7.3"
  }
 },
 "nbformat": 4,
 "nbformat_minor": 4
}
